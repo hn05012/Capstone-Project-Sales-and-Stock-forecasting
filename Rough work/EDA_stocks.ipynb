{
 "cells": [
  {
   "cell_type": "code",
   "execution_count": null,
   "metadata": {},
   "outputs": [],
   "source": [
    "import pandas as pd\n",
    "import math\n",
    "import operator"
   ]
  },
  {
   "cell_type": "code",
   "execution_count": null,
   "metadata": {},
   "outputs": [],
   "source": [
    "df_stocks = pd.read_csv('Data\\Brands_Categories_Sold_Lhr_encoded.csv')\n",
    "df_stocks['dates'] = pd.to_datetime(df_stocks['dates'], dayfirst = True)\n",
    "df_stocks.rename(columns={'dates':'Date'}, inplace=True)\n",
    "df_stocks.set_index('Date', inplace=True)\n",
    "\n",
    "df_stocks_features = pd.read_csv('Data\\stocks_features.csv')\n",
    "df_stocks_features['dates'] = pd.to_datetime(df_stocks_features['dates'], dayfirst = True)\n",
    "df_stocks_features.rename(columns={'dates':'Date'}, inplace=True)\n",
    "df_stocks_features.set_index('Date', inplace=True)\n",
    "\n",
    "df_ItemList = pd.read_csv('Data\\ItemList.csv')\n",
    "df_Sales = pd.read_csv('Data\\Lahore_sales_report.csv')\n"
   ]
  },
  {
   "cell_type": "code",
   "execution_count": null,
   "metadata": {},
   "outputs": [],
   "source": [
    "df_stocks_monthly = df_stocks.resample('M').sum()"
   ]
  },
  {
   "cell_type": "code",
   "execution_count": null,
   "metadata": {},
   "outputs": [],
   "source": [
    "# df_stocks_monthly\n",
    "# df_stocks_features"
   ]
  },
  {
   "cell_type": "code",
   "execution_count": null,
   "metadata": {},
   "outputs": [],
   "source": [
    "# bringing top 20% categories: top 20% by rank\n",
    "\n",
    "\n",
    "category_monthly_sold = {}\n",
    "brand_monthly_sold = {}\n",
    "\n",
    "category_names = []\n",
    "brand_names = []\n",
    "\n",
    "for column_name, content in df_stocks_monthly.iteritems():\n",
    "    if 'category' in column_name:\n",
    "        if column_name not in category_names:\n",
    "            category_names.append(column_name)\n",
    "        if column_name not in category_monthly_sold:\n",
    "            category_monthly_sold[column_name] = []\n",
    "\n",
    "            for index, value in content.iteritems():\n",
    "                category_monthly_sold[column_name].append((index.month_name() + str(index.year), value))      \n",
    "    elif 'brand' in column_name:\n",
    "        if column_name not in brand_names:\n",
    "            brand_names.append(column_name)\n",
    "        if column_name not in brand_monthly_sold:\n",
    "            brand_monthly_sold[column_name] = []\n",
    "\n",
    "            for index, value in content.iteritems():\n",
    "                brand_monthly_sold[column_name].append((index.month_name() + str(index.year), value))      \n",
    "                \n",
    "    "
   ]
  },
  {
   "cell_type": "code",
   "execution_count": null,
   "metadata": {},
   "outputs": [],
   "source": [
    "monthly_category_sold = {}\n",
    "monthly_brand_sold = {}\n",
    "\n",
    "for column_name, content in df_stocks_monthly.iteritems():\n",
    "    if 'category' in column_name:\n",
    "        for index, value in content.iteritems():\n",
    "            month_year = index.month_name() + str(index.year)\n",
    "            if month_year not in monthly_category_sold:\n",
    "                monthly_category_sold[month_year] = []\n",
    "                monthly_category_sold[month_year].append((column_name, value))\n",
    "            else:\n",
    "                monthly_category_sold[month_year].append((column_name, value))\n",
    "    elif 'brand' in column_name:\n",
    "        for index, value in content.iteritems():\n",
    "            month_year = index.month_name() + str(index.year)\n",
    "            if month_year not in monthly_brand_sold:\n",
    "                monthly_brand_sold[month_year] = []\n",
    "                monthly_brand_sold[month_year].append((column_name, value))\n",
    "            else:\n",
    "                monthly_brand_sold[month_year].append((column_name, value))\n",
    "\n",
    "\n"
   ]
  },
  {
   "cell_type": "code",
   "execution_count": null,
   "metadata": {},
   "outputs": [],
   "source": [
    "monthly_category_sold"
   ]
  },
  {
   "cell_type": "code",
   "execution_count": null,
   "metadata": {},
   "outputs": [],
   "source": [
    "top_monthly_category_sold = {}\n",
    "for key in monthly_category_sold:\n",
    "    sorted_cat = sorted(monthly_category_sold[key], key=lambda x:(x[1], x[1]), reverse=True)\n",
    "    total_units_sold = sum(i for _, i in sorted_cat)\n",
    "    main_categories = []\n",
    "    units_sold = 0\n",
    "    for c in sorted_cat:\n",
    "        if units_sold >= 0.95*(total_units_sold):\n",
    "            break\n",
    "        else:\n",
    "            units_sold += c[1]\n",
    "            main_categories.append(c[0])\n",
    "    top_monthly_category_sold[key] = main_categories\n"
   ]
  },
  {
   "cell_type": "code",
   "execution_count": null,
   "metadata": {},
   "outputs": [],
   "source": [
    "top_monthly_category_sold"
   ]
  },
  {
   "cell_type": "code",
   "execution_count": null,
   "metadata": {},
   "outputs": [],
   "source": [
    "top_20Perc_monthly_category_sold = {}\n",
    "for key in monthly_category_sold:\n",
    "    sorted_cat = sorted(monthly_category_sold[key], key=lambda x:(x[1], x[1]), reverse=True)\n",
    "    top_20Perc_monthly_category_sold[key] = sorted_cat[:math.ceil( len(sorted_cat)*0.2 )]\n",
    "\n",
    "top_20Perc_monthly_brand_sold = {}\n",
    "for key in monthly_brand_sold:\n",
    "    sorted_brand = sorted(monthly_brand_sold[key], key=lambda x:(x[1], x[1]), reverse=True)\n",
    "    top_20Perc_monthly_brand_sold[key] = sorted_brand[:math.ceil( len(sorted_brand)*0.2 )]"
   ]
  },
  {
   "cell_type": "code",
   "execution_count": null,
   "metadata": {},
   "outputs": [],
   "source": [
    "cat_freq = {}\n",
    "for key in top_monthly_category_sold:\n",
    "    for value in top_monthly_category_sold[key]:\n",
    "        if value not in cat_freq:\n",
    "            cat_freq[value] = 1\n",
    "        else:\n",
    "            cat_freq[value]+=1"
   ]
  },
  {
   "cell_type": "code",
   "execution_count": null,
   "metadata": {},
   "outputs": [],
   "source": [
    "print(dict( sorted(cat_freq.items(), key=operator.itemgetter(1),reverse=True) ))"
   ]
  },
  {
   "cell_type": "code",
   "execution_count": null,
   "metadata": {},
   "outputs": [],
   "source": [
    "top_95_percent_overall_categories = []\n",
    "for key in cat_freq:\n",
    "    if cat_freq[key] > 12:\n",
    "        top_95_percent_overall_categories.append(key)"
   ]
  },
  {
   "cell_type": "code",
   "execution_count": null,
   "metadata": {},
   "outputs": [],
   "source": [
    "b_c_encoded = {}"
   ]
  },
  {
   "cell_type": "code",
   "execution_count": null,
   "metadata": {},
   "outputs": [],
   "source": [
    "top_95_percent_overall_categories_decoded = []\n",
    "for c in top_95_percent_overall_categories:\n",
    "    for key in b_c_encoded:\n",
    "        if b_c_encoded[key] == c:\n",
    "            top_95_percent_overall_categories_decoded.append(key)"
   ]
  },
  {
   "cell_type": "code",
   "execution_count": null,
   "metadata": {},
   "outputs": [],
   "source": [
    "top_95_percent_overall_categories_decoded"
   ]
  },
  {
   "cell_type": "code",
   "execution_count": null,
   "metadata": {},
   "outputs": [],
   "source": [
    "category_wise_brands = {}\n",
    "for c in top_95_percent_overall_categories_decoded:\n",
    "    category_wise_brands[c] = []\n",
    "    for index, row in df_ItemList.iterrows():\n",
    "        if row['Category'] == c:\n",
    "            if row['ItemName'] not in category_wise_brands[c]:\n",
    "                category_wise_brands[c].append(row['ItemName'])\n",
    "        "
   ]
  },
  {
   "cell_type": "code",
   "execution_count": null,
   "metadata": {},
   "outputs": [],
   "source": [
    "category_dfs = {}\n",
    "for key in category_wise_brands:\n",
    "    category_dfs[key] = pd.DataFrame(columns=['Date'] + category_wise_brands[key])\n"
   ]
  },
  {
   "cell_type": "code",
   "execution_count": null,
   "metadata": {},
   "outputs": [],
   "source": [
    "category_dfs"
   ]
  },
  {
   "cell_type": "code",
   "execution_count": null,
   "metadata": {},
   "outputs": [],
   "source": [
    "for key in category_dfs:\n",
    "    print(key)\n",
    "    initial_row = [ 0 for i in range( len(category_dfs[key].columns)) ]\n",
    "\n",
    "    for index_sales, row_sales in df_Sales.iterrows():\n",
    "\n",
    "        date = row_sales['Customer Date']\n",
    "        itemcode = row_sales['Design Number']\n",
    "        qty_sold = row_sales['Quantity']\n",
    "\n",
    "        for index_il, row_il in df_ItemList.iterrows():\n",
    "            \n",
    "            if itemcode == row_il['ItemCode'] and key == row_il['Category']:\n",
    "                \n",
    "                brand = row_il['ItemName']\n",
    "                df_length = len(category_dfs[key])\n",
    "                category_dfs[key].loc[df_length] = initial_row\n",
    "                category_dfs[key].loc[df_length, 'Date'] = date\n",
    "                category_dfs[key].loc[df_length, brand] = qty_sold\n",
    "                \n",
    "            "
   ]
  },
  {
   "cell_type": "code",
   "execution_count": null,
   "metadata": {},
   "outputs": [],
   "source": [
    "for key in category_dfs:\n",
    "    filename = key.replace(\"/\", \"\")\n",
    "    category_dfs[key].to_csv(filename + '.csv')"
   ]
  },
  {
   "cell_type": "code",
   "execution_count": null,
   "metadata": {},
   "outputs": [],
   "source": [
    "df_ItemList = pd.read_csv('Data\\ItemList.csv')"
   ]
  },
  {
   "cell_type": "code",
   "execution_count": null,
   "metadata": {},
   "outputs": [],
   "source": [
    "cat_freq_noncoded = {}\n",
    "for key in cat_freq:\n",
    "    for c in b_c_encoded:\n",
    "        if b_c_encoded[c] == key:\n",
    "            cat_freq_noncoded[c] = cat_freq[key] \n",
    "    "
   ]
  },
  {
   "cell_type": "code",
   "execution_count": null,
   "metadata": {},
   "outputs": [],
   "source": [
    "# cat_freq_noncoded\n",
    "# print(dict( sorted(cat_freq_noncoded.items(), key=operator.itemgetter(1),reverse=True) ))"
   ]
  },
  {
   "cell_type": "code",
   "execution_count": null,
   "metadata": {},
   "outputs": [],
   "source": [
    "cat_freq = dict( sorted(cat_freq.items(), key=operator.itemgetter(1),reverse=True) )"
   ]
  },
  {
   "cell_type": "code",
   "execution_count": null,
   "metadata": {},
   "outputs": [],
   "source": [
    "cat_freq"
   ]
  },
  {
   "cell_type": "code",
   "execution_count": null,
   "metadata": {},
   "outputs": [],
   "source": [
    "# even if its sold once a year then thats fine"
   ]
  },
  {
   "cell_type": "code",
   "execution_count": null,
   "metadata": {},
   "outputs": [],
   "source": [
    "main_categories = {}\n",
    "for key in cat_freq:\n",
    "    if cat_freq[key] >= math.floor(len(cat_freq)*0.25):\n",
    "        main_categories[key] = cat_freq[key]"
   ]
  },
  {
   "cell_type": "code",
   "execution_count": null,
   "metadata": {},
   "outputs": [],
   "source": [
    "main_categories\n",
    "main_categories_names = []\n",
    "for key in main_categories:\n",
    "    main_categories_names.append(key)\n",
    "main_categories_names"
   ]
  },
  {
   "cell_type": "code",
   "execution_count": null,
   "metadata": {},
   "outputs": [],
   "source": [
    "df_main_cat = df_stocks[main_categories]"
   ]
  },
  {
   "cell_type": "code",
   "execution_count": null,
   "metadata": {},
   "outputs": [],
   "source": [
    "# df_main_cat = df_main_cat.loc[:, ~df_main_cat.columns.isin(brand_names)]"
   ]
  },
  {
   "cell_type": "code",
   "execution_count": null,
   "metadata": {},
   "outputs": [],
   "source": [
    "df_main_cat"
   ]
  },
  {
   "cell_type": "code",
   "execution_count": null,
   "metadata": {},
   "outputs": [],
   "source": [
    "columns_needed = ['Average Discount', 'Year', 'Month', 'Day', 'Week Day', 'Week End', 'Hijri Dates', 'eid ul fitr', 'eid ul Adha', 'Muharrum', 'Wheat Harvest', 'Cotton Harvest'] + main_categories_names"
   ]
  },
  {
   "cell_type": "code",
   "execution_count": null,
   "metadata": {},
   "outputs": [],
   "source": [
    "columns_needed"
   ]
  },
  {
   "cell_type": "code",
   "execution_count": null,
   "metadata": {},
   "outputs": [],
   "source": [
    "df_main_cat_features = df_stocks_features[columns_needed]"
   ]
  },
  {
   "cell_type": "code",
   "execution_count": null,
   "metadata": {},
   "outputs": [],
   "source": [
    "df_main_cat_features"
   ]
  },
  {
   "cell_type": "code",
   "execution_count": null,
   "metadata": {},
   "outputs": [],
   "source": [
    "df_main_cat_features.to_csv('Data\\main_categories_features.csv')"
   ]
  }
 ],
 "metadata": {
  "interpreter": {
   "hash": "c569cd2e17f62341e0f08a54f9a867c3c0d3a6f67454072d7de41a8b5dff8343"
  },
  "kernelspec": {
   "display_name": "Python 3.9.1 64-bit",
   "language": "python",
   "name": "python3"
  },
  "language_info": {
   "codemirror_mode": {
    "name": "ipython",
    "version": 3
   },
   "file_extension": ".py",
   "mimetype": "text/x-python",
   "name": "python",
   "nbconvert_exporter": "python",
   "pygments_lexer": "ipython3",
   "version": "3.9.1"
  },
  "orig_nbformat": 4
 },
 "nbformat": 4,
 "nbformat_minor": 2
}
