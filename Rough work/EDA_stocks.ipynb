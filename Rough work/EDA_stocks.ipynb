{
 "cells": [
  {
   "cell_type": "code",
   "execution_count": null,
   "metadata": {},
   "outputs": [],
   "source": [
    "import pandas as pd\n",
    "import math\n",
    "import operator\n",
    "import os\n",
    "import shutil\n",
    "from matplotlib import pyplot as plt\n",
    " "
   ]
  },
  {
   "cell_type": "code",
   "execution_count": null,
   "metadata": {},
   "outputs": [],
   "source": [
    "df_cat_a228 = pd.read_csv('Stock Category Model Results\\df_test_bilstm 500 epochs.csv')\n",
    "df_cat_a228.drop('Unnamed: 0', inplace=True, axis=1)\n",
    "df_cat_a228_lstm = pd.read_csv('Stock Category Model Results\\df_test_lstm 500 epochs.csv')\n",
    "df_cat_a228_lstm.drop('Unnamed: 0', inplace=True, axis=1)\n",
    "\n"
   ]
  },
  {
   "cell_type": "code",
   "execution_count": null,
   "metadata": {},
   "outputs": [],
   "source": [
    "# for column in df_cat_a228.columns:\n",
    "#     if \"test\" in column:\n",
    "#         column_name_test = column\n",
    "#         column_name_actual = column.replace(\" test\", \"\") + \" actual\"\n",
    "\n",
    "#         c_test_data = df_cat_a228[column_name_test].values\n",
    "#         c_actual_data = df_cat_a228[column_name_actual].values\n",
    "\n",
    "#         plt.figure(figsize=(10,6))\n",
    "#         title = column + ' bilstm'\n",
    "#         plt.title(title)\n",
    "#         plt.legend()\n",
    "#         plt.plot(c_test_data)\n",
    "#         plt.plot(c_actual_data)\n",
    "#         plt.show()\n",
    "#     else:\n",
    "#         break\n",
    "\n"
   ]
  },
  {
   "cell_type": "code",
   "execution_count": null,
   "metadata": {},
   "outputs": [],
   "source": [
    "# for column in df_cat_a228_lstm.columns:\n",
    "#     if \"test\" in column:\n",
    "#         column_name_test = column\n",
    "#         column_name_actual = column.replace(\" test\", \"\") + \" actual\"\n",
    "\n",
    "#         c_test_data = df_cat_a228_lstm[column_name_test].values\n",
    "#         c_actual_data = df_cat_a228_lstm[column_name_actual].values\n",
    "\n",
    "#         plt.figure(figsize=(10,6))\n",
    "#         title = column + ' lstm'\n",
    "#         plt.title(title)\n",
    "#         plt.legend()\n",
    "#         plt.plot(c_test_data)\n",
    "#         plt.plot(c_actual_data)\n",
    "#         plt.show()\n",
    "#     else:\n",
    "#         break\n",
    "\n"
   ]
  },
  {
   "cell_type": "code",
   "execution_count": null,
   "metadata": {},
   "outputs": [],
   "source": []
  }
 ],
 "metadata": {
  "interpreter": {
   "hash": "f6246b25e200e4c5124e3e61789ac81350562f0761bbcf92ad9e48654207659c"
  },
  "kernelspec": {
   "display_name": "Python 3.9.1 64-bit",
   "language": "python",
   "name": "python3"
  },
  "language_info": {
   "codemirror_mode": {
    "name": "ipython",
    "version": 3
   },
   "file_extension": ".py",
   "mimetype": "text/x-python",
   "name": "python",
   "nbconvert_exporter": "python",
   "pygments_lexer": "ipython3",
   "version": "3.9.1"
  },
  "orig_nbformat": 4
 },
 "nbformat": 4,
 "nbformat_minor": 2
}
