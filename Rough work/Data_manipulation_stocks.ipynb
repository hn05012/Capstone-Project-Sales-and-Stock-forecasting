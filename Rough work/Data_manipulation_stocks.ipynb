{
 "cells": [
  {
   "cell_type": "code",
   "execution_count": 2,
   "metadata": {},
   "outputs": [],
   "source": [
    "import pandas as pd\n",
    "import math\n",
    "import operator\n",
    "import os\n",
    "import shutil"
   ]
  },
  {
   "cell_type": "code",
   "execution_count": 3,
   "metadata": {},
   "outputs": [],
   "source": [
    "df_sales = pd.read_csv('Data\\multi_feature_sales_data.csv')\n",
    "df_sales['Date'] = pd.to_datetime(df_sales['Date'], format=\"%d/%m/%Y\")\n",
    "df_sales.set_index('Date', inplace=True)\n",
    "\n",
    "df_cat_a228a = pd.read_csv('Category_wise_brands_encoded\\category a228a-fix.csv')\n",
    "df_cat_a228a['Date'] = pd.to_datetime(df_cat_a228a['Date'], format=\"%Y-%m-%d\")\n",
    "df_cat_a228a.set_index('Date', inplace=True)\n",
    "\n",
    "\n"
   ]
  },
  {
   "cell_type": "code",
   "execution_count": 9,
   "metadata": {},
   "outputs": [],
   "source": [
    "directory = 'Category_wise_brands_encoded'\n",
    "for filename in os.listdir(directory):\n",
    "    if \"with features\" not in filename:\n",
    "        df = pd.read_csv(directory + '/' + filename)\n",
    "        df['Date'] = pd.to_datetime(df['Date'], format=\"%Y-%m-%d\")\n",
    "        df.set_index('Date', inplace=True)\n",
    "        \n",
    "        for index, row in df.iterrows():\n",
    "            if index not in df_sales.index:\n",
    "                df.drop(index, inplace=True, axis=0)\n",
    "\n",
    "        df_sales_copy = df_sales.copy(deep=True)\n",
    "\n",
    "        for index, row in df_sales_copy.iterrows():\n",
    "            if index not in df.index:\n",
    "                df_sales_copy.drop(index, inplace=True, axis=0)\n",
    "                \n",
    "        df_sales_copy.drop('Sales', inplace=True, axis=1)\n",
    "\n",
    "        df_concat = pd.concat([df_sales, df], axis=1)\n",
    "\n",
    "        fname = directory + '/' + filename.replace('.csv', '') + ' with features' + '.csv' \n",
    "        df_concat.to_csv(fname)\n"
   ]
  },
  {
   "cell_type": "code",
   "execution_count": null,
   "metadata": {},
   "outputs": [],
   "source": []
  },
  {
   "cell_type": "code",
   "execution_count": null,
   "metadata": {},
   "outputs": [],
   "source": []
  }
 ],
 "metadata": {
  "interpreter": {
   "hash": "c569cd2e17f62341e0f08a54f9a867c3c0d3a6f67454072d7de41a8b5dff8343"
  },
  "kernelspec": {
   "display_name": "Python 3.9.1 64-bit",
   "language": "python",
   "name": "python3"
  },
  "language_info": {
   "codemirror_mode": {
    "name": "ipython",
    "version": 3
   },
   "file_extension": ".py",
   "mimetype": "text/x-python",
   "name": "python",
   "nbconvert_exporter": "python",
   "pygments_lexer": "ipython3",
   "version": "3.9.1"
  },
  "orig_nbformat": 4
 },
 "nbformat": 4,
 "nbformat_minor": 2
}
