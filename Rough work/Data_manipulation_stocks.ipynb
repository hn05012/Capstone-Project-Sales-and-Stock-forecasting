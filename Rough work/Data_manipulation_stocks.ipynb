{
 "cells": [
  {
   "cell_type": "code",
   "execution_count": null,
   "metadata": {},
   "outputs": [],
   "source": [
    "import pandas as pd\n",
    "import math\n",
    "import operator\n",
    "import os\n",
    "import shutil \n",
    "from datetime import datetime \n",
    "import numpy as np\n",
    "import copy\n",
    "from hijri_converter import convert"
   ]
  },
  {
   "cell_type": "code",
   "execution_count": null,
   "metadata": {},
   "outputs": [],
   "source": [
    "df_cat_a228 = pd.read_csv('Working Data\\Stocks\\category a228a-fix with features.csv')"
   ]
  },
  {
   "cell_type": "code",
   "execution_count": null,
   "metadata": {},
   "outputs": [],
   "source": [
    "df_cat_a228\n",
    "df_cat_a228['Date'] = pd.to_datetime(df_cat_a228['Date'], dayfirst=True)\n",
    "df_cat_a228.set_index('Date', inplace=True)"
   ]
  },
  {
   "cell_type": "code",
   "execution_count": null,
   "metadata": {},
   "outputs": [],
   "source": [
    "df_cat_a228 = df_cat_a228.resample('M').sum()\n",
    "for index, row in df_cat_a228.iterrows():\n",
    "    df_cat_a228.loc[index, 'Year'] = index.year\n",
    "    \n",
    "    df_cat_a228.loc[index, 'Month'] = index.month\n",
    "    df_cat_a228.loc[index, 'eid ul fitr'] = row['eid ul fitr']/30\n",
    "    df_cat_a228.loc[index, 'eid ul Adha'] = row['eid ul Adha']/30\n",
    "    df_cat_a228.loc[index, 'Muharrum'] = row['Muharrum']/30\n",
    "    df_cat_a228.loc[index, 'Wheat Harvest'] = row['Wheat Harvest']/30\n",
    "    df_cat_a228.loc[index, 'Cotton Harvest'] = row['Cotton Harvest']/30\n"
   ]
  },
  {
   "cell_type": "code",
   "execution_count": null,
   "metadata": {},
   "outputs": [],
   "source": [
    "gregorian_months = ['January',\n",
    "                'February',\n",
    "                'March',\n",
    "                'April',\n",
    "                'May',\n",
    "                'June',\n",
    "                'July',\n",
    "                'August',\n",
    "                'September',\n",
    "                'October',\n",
    "                'November',\n",
    "                'December']\n",
    "\n",
    "islamic_months = [\"Muharram\", \"Safar\", \"Rabi al Awwal\", \n",
    "                  \"Rabi ath Thani\", \"Jamada al Ula\", \n",
    "                  \"Jumada ath Thaniyah\", \"Rajab\", \"Shaban\", \n",
    "                  \"Ramadan\", \"Shawal\", \"Dhu al Qa'dah\", \"Dhu al Hijah\"]\n"
   ]
  },
  {
   "cell_type": "code",
   "execution_count": null,
   "metadata": {},
   "outputs": [],
   "source": [
    "for c in gregorian_months:\n",
    "    df_cat_a228[c] = 0\n",
    "for c in islamic_months:\n",
    "    df_cat_a228[c] = 0\n"
   ]
  },
  {
   "cell_type": "code",
   "execution_count": null,
   "metadata": {},
   "outputs": [],
   "source": [
    "for index, row in df_cat_a228.iterrows():\n",
    "    gregorian_month_name = gregorian_months[index.month-1]\n",
    "\n",
    "    islamic_month_index = convert.Gregorian.fromdate(index).to_hijri().month - 1\n",
    "    islamic_month_name = islamic_months[islamic_month_index - 1]\n",
    "    \n",
    "    df_cat_a228.at[index, gregorian_month_name] = 1\n",
    "    df_cat_a228.at[index, islamic_month_name] = 1\n"
   ]
  },
  {
   "cell_type": "code",
   "execution_count": null,
   "metadata": {},
   "outputs": [],
   "source": [
    "df_cat_a228.drop('Month', inplace=True, axis=1)\n"
   ]
  },
  {
   "cell_type": "code",
   "execution_count": null,
   "metadata": {},
   "outputs": [],
   "source": [
    "df_cat_a228.to_csv('sample.csv')"
   ]
  },
  {
   "cell_type": "code",
   "execution_count": null,
   "metadata": {},
   "outputs": [],
   "source": [
    "# df_sales = pd.read_csv('Data\\multi_feature_sales_data.csv')\n",
    "# df_sales['Date'] = pd.to_datetime(df_sales['Date'], format=\"%d/%m/%Y\")\n",
    "# df_sales.set_index('Date', inplace=True)\n",
    "\n",
    "# df_cat_a228a = pd.read_csv('Category_wise_brands_encoded\\category a228a-fix.csv')\n",
    "# df_cat_a228a['Date'] = pd.to_datetime(df_cat_a228a['Date'], format=\"%Y-%m-%d\")\n",
    "# df_cat_a228a.set_index('Date', inplace=True)\n"
   ]
  },
  {
   "cell_type": "code",
   "execution_count": null,
   "metadata": {},
   "outputs": [],
   "source": [
    "# directory = 'Category_wise_brands_encoded'\n",
    "# for filename in os.listdir(directory):\n",
    "#     if \"with features\" not in filename:\n",
    "#         df = pd.read_csv(directory + '/' + filename)\n",
    "#         df['Date'] = pd.to_datetime(df['Date'], format=\"%Y-%m-%d\")\n",
    "#         df.set_index('Date', inplace=True)\n",
    "        \n",
    "#         for index, row in df.iterrows():\n",
    "#             if index not in df_sales.index:\n",
    "#                 df.drop(index, inplace=True, axis=0)\n",
    "\n",
    "#         df_sales_copy = df_sales.copy(deep=True)\n",
    "\n",
    "#         for index, row in df_sales_copy.iterrows():\n",
    "#             if index not in df.index:\n",
    "#                 df_sales_copy.drop(index, inplace=True, axis=0)\n",
    "                \n",
    "#         df_sales_copy.drop('Sales', inplace=True, axis=1)\n",
    "\n",
    "#         df_concat = pd.concat([df_sales, df], axis=1)\n",
    "\n",
    "#         fname = directory + '/' + filename.replace('.csv', '') + ' with features' + '.csv' \n",
    "#         df_concat.to_csv(fname)\n",
    "\n"
   ]
  },
  {
   "cell_type": "code",
   "execution_count": null,
   "metadata": {},
   "outputs": [],
   "source": [
    "directory = 'Working Data/Stocks'\n",
    "for filename in os.listdir(directory):\n",
    "    try:\n",
    "        df = pd.read_csv(directory + '/' + filename)\n",
    "        df['Date'] = pd.to_datetime(df['Date'], dayfirst=True)\n",
    "\n",
    "        df.set_index('Date', inplace=True)\n",
    "        df.drop('Sales', inplace=True, axis=1)\n",
    "        df.drop('Average Discount', inplace=True, axis=1)\n",
    "        df.drop('Day', inplace=True, axis=1)\n",
    "        df.drop('Week Day', inplace=True, axis=1)\n",
    "        df.drop('Week End', inplace=True, axis=1)\n",
    "        df.drop('Hijri Dates', inplace=True, axis=1)\n",
    "\n",
    "        df = df.resample('M').sum()\n",
    "        for index, row in df.iterrows():\n",
    "            df.loc[index, 'Year'] = index.year\n",
    "            df.loc[index, 'Month'] = index.month\n",
    "            df.loc[index, 'eid ul fitr'] = row['eid ul fitr']/30\n",
    "            df.loc[index, 'eid ul Adha'] = row['eid ul Adha']/30\n",
    "            df.loc[index, 'Muharrum'] = row['Muharrum']/30\n",
    "            df.loc[index, 'Wheat Harvest'] = row['Wheat Harvest']/30\n",
    "            df.loc[index, 'Cotton Harvest'] = row['Cotton Harvest']/30\n",
    "        \n",
    "        for c in gregorian_months:\n",
    "            df[c] = 0\n",
    "        for c in islamic_months:\n",
    "            df[c] = 0\n",
    "\n",
    "        for index, row in df.iterrows():\n",
    "            gregorian_month_name = gregorian_months[index.month-1]\n",
    "\n",
    "            islamic_month_index = convert.Gregorian.fromdate(index).to_hijri().month - 1\n",
    "            islamic_month_name = islamic_months[islamic_month_index - 1]\n",
    "            \n",
    "            df.at[index, gregorian_month_name] = 1\n",
    "            df.at[index, islamic_month_name] = 1\n",
    "        \n",
    "        df.drop('Month', inplace=True, axis=1)\n",
    "        df.drop('Muharrum', inplace=True, axis=1)\n",
    "        \n",
    "        path = directory + '/Monthly_Stocks_Data/' + filename \n",
    "        df.to_csv(path)    \n",
    "    \n",
    "    except:\n",
    "        print(filename)\n",
    "\n",
    "        \n"
   ]
  },
  {
   "cell_type": "code",
   "execution_count": null,
   "metadata": {},
   "outputs": [],
   "source": []
  }
 ],
 "metadata": {
  "interpreter": {
   "hash": "c569cd2e17f62341e0f08a54f9a867c3c0d3a6f67454072d7de41a8b5dff8343"
  },
  "kernelspec": {
   "display_name": "Python 3.9.1 64-bit",
   "language": "python",
   "name": "python3"
  },
  "language_info": {
   "codemirror_mode": {
    "name": "ipython",
    "version": 3
   },
   "file_extension": ".py",
   "mimetype": "text/x-python",
   "name": "python",
   "nbconvert_exporter": "python",
   "pygments_lexer": "ipython3",
   "version": "3.9.1"
  },
  "orig_nbformat": 4
 },
 "nbformat": 4,
 "nbformat_minor": 2
}
