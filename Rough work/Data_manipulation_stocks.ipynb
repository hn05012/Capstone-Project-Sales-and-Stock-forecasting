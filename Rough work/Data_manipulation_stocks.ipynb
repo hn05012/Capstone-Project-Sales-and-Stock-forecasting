{
 "cells": [
  {
   "cell_type": "code",
   "execution_count": 1,
   "metadata": {},
   "outputs": [],
   "source": [
    "import pandas as pd\n",
    "import math\n",
    "import operator\n",
    "import os\n",
    "import shutil"
   ]
  },
  {
   "cell_type": "code",
   "execution_count": 2,
   "metadata": {},
   "outputs": [],
   "source": [
    "df_sales = pd.read_csv('Data\\multi_feature_sales_data.csv')\n",
    "df_sales['Date'] = pd.to_datetime(df_sales['Date'], format=\"%d/%m/%Y\")\n",
    "df_sales.set_index('Date', inplace=True)\n",
    "\n",
    "df_cat_a228a = pd.read_csv('Category_wise_brands_encoded\\Missing_Dates\\category a228a-fix.csv')\n",
    "df_cat_a228a['Date'] = df_cat_a228a['Unnamed: 0']\n",
    "df_cat_a228a.drop('Unnamed: 0', inplace=True, axis=1)\n",
    "df_cat_a228a['Date'] = pd.to_datetime(df_cat_a228a['Date'], format=\"%Y-%m-%d\")\n",
    "df_cat_a228a.set_index('Date', inplace=True)\n",
    "\n"
   ]
  },
  {
   "cell_type": "code",
   "execution_count": 3,
   "metadata": {},
   "outputs": [
    {
     "name": "stdout",
     "output_type": "stream",
     "text": [
      "True\n"
     ]
    }
   ],
   "source": [
    "for index, row in df_cat_a228a.iterrows():\n",
    "    if index not in df_sales.index:\n",
    "        df_cat_a228a.drop(index, inplace=True, axis=0)\n",
    "\n",
    "sales_index = list(df_sales.index.values)\n",
    "cat_index = list(df_cat_a228a.index.values)\n",
    "\n",
    "if sales_index == cat_index:\n",
    "    print('True')"
   ]
  },
  {
   "cell_type": "code",
   "execution_count": 8,
   "metadata": {},
   "outputs": [],
   "source": [
    "df_concat = pd.concat([df_sales, df_cat_a228a], axis=1)\n",
    "df_concat.drop('Sales', inplace=True, axis = 1)\n",
    "\n",
    "df_concat.to_csv('category a228.csv')"
   ]
  },
  {
   "cell_type": "code",
   "execution_count": null,
   "metadata": {},
   "outputs": [],
   "source": []
  }
 ],
 "metadata": {
  "interpreter": {
   "hash": "c569cd2e17f62341e0f08a54f9a867c3c0d3a6f67454072d7de41a8b5dff8343"
  },
  "kernelspec": {
   "display_name": "Python 3.9.1 64-bit",
   "language": "python",
   "name": "python3"
  },
  "language_info": {
   "codemirror_mode": {
    "name": "ipython",
    "version": 3
   },
   "file_extension": ".py",
   "mimetype": "text/x-python",
   "name": "python",
   "nbconvert_exporter": "python",
   "pygments_lexer": "ipython3",
   "version": "3.9.1"
  },
  "orig_nbformat": 4
 },
 "nbformat": 4,
 "nbformat_minor": 2
}
