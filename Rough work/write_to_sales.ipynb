{
 "cells": [
  {
   "cell_type": "code",
   "execution_count": 1,
   "metadata": {},
   "outputs": [],
   "source": [
    "import csv\n",
    "import matplotlib.pyplot as plt\n",
    "import matplotlib.dates as mdates\n",
    "from sklearn.preprocessing import MinMaxScaler\n",
    "import pandas as pd\n",
    "import seaborn as sns\n",
    "from hijri_converter import convert\n",
    "from datetime import datetime as dt"
   ]
  },
  {
   "cell_type": "code",
   "execution_count": 2,
   "metadata": {},
   "outputs": [],
   "source": [
    "file = open('Data\\daily_sales - Copy.csv')\n",
    "read_file = csv.reader(file)\n",
    "sales_list = list(read_file)\n",
    "file.close()"
   ]
  },
  {
   "cell_type": "code",
   "execution_count": 4,
   "metadata": {},
   "outputs": [],
   "source": [
    "data = []\n",
    "for i in range(1, len(sales_list)):\n",
    "    row = sales_list[i]\n",
    "    date_string = sales_list[i][0]\n",
    "    date_obj = dt.strptime(date_string,'%d/%m/%Y')\n",
    "    hijri_object = convert.Gregorian.fromdate(date_obj).to_hijri()\n",
    "    row.append()\n",
    "\n"
   ]
  },
  {
   "cell_type": "code",
   "execution_count": null,
   "metadata": {},
   "outputs": [],
   "source": [
    "# daily_sales = []\n",
    "# sales_record = []\n",
    "# sales = 0\n",
    "# date = sales_list[1][0]\n",
    "# for i in range(1, len(sales_list)):\n",
    "#     if sales_list[i][0] != date:\n",
    "#         sales = int(sum(sales_record)) \n",
    "#         daily_sales.append([date,sales])\n",
    "\n",
    "#         date = sales_list[i][0]\n",
    "#         sales_record = []\n",
    "#         sales_record.append(float(sales_list[i][8].replace(',','')))\n",
    "#     else:\n",
    "#         sales_record.append(float(sales_list[i][8].replace(',','')))\n",
    "# sales = int(sum(sales_record))\n",
    "# daily_sales.append([date, sales])\n",
    "\n",
    "\n",
    "#**********************************************************************\n",
    "\n"
   ]
  },
  {
   "cell_type": "code",
   "execution_count": null,
   "metadata": {},
   "outputs": [],
   "source": [
    "# def add_weights(discounts, w_10, w_20, w_30, w_40, w_50):\n",
    "#     weighted_discount_list = []\n",
    "#     for d in discounts:\n",
    "#         if float(5) <= d < float(15):\n",
    "#             weighted_discount_list.append((d, w_10))\n",
    "#         elif float(15) <= d < float(25):\n",
    "#             weighted_discount_list.append((d, w_20))\n",
    "#         elif float(25) <= d < float(35):\n",
    "#             weighted_discount_list.append((d, w_30))\n",
    "#         elif float(35) <= d < float(45):\n",
    "#             weighted_discount_list.append((d, w_40))\n",
    "#         elif float(45) <= d < float(55):\n",
    "#             weighted_discount_list.append((d, w_50))\n",
    "#     return weighted_discount_list\n",
    "\n",
    "# def weighted_average(weighted_list):                        # the weights add upto 1\n",
    "#     numerator, denominator = 0, 0\n",
    "#     for d in weighted_list:\n",
    "#         numerator+= d[0]*d[1]\n",
    "#         denominator += d[1]\n",
    "#     return numerator/denominator\n",
    "        "
   ]
  },
  {
   "cell_type": "code",
   "execution_count": null,
   "metadata": {},
   "outputs": [],
   "source": [
    "# daily_discounts = []\n",
    "# disc_list = []\n",
    "# avg_disc = 0\n",
    "# date = sales_list[1][0]\n",
    "# for i in range(1, len(sales_list)):\n",
    "#     if sales_list[i][0] != date:\n",
    "#         if len(disc_list) == 0:\n",
    "#             avg_disc = 0\n",
    "#         else:\n",
    "#             avg_disc = int(weighted_average(add_weights(disc_list, 0.15, 0.5, 0.15, 0.1, 0.1)))\n",
    "#         daily_discounts.append([date, avg_disc])\n",
    "        \n",
    "#         date = sales_list[i][0]\n",
    "#         disc_list = []\n",
    "#         if float(10) < float(sales_list[i][6]) and float(sales_list[i][6]) < float(51):\n",
    "#             disc_list.append(float(sales_list[i][6]))\n",
    "#     else:\n",
    "#         if float(10) < float(sales_list[i][6]) and float(sales_list[i][6]) < float(51):\n",
    "#             disc_list.append(float(sales_list[i][6]))\n",
    "# avg_disc = int(sum(disc_list)/len(disc_list))\n",
    "# daily_discounts.append([date, avg_disc])"
   ]
  },
  {
   "cell_type": "code",
   "execution_count": null,
   "metadata": {},
   "outputs": [],
   "source": [
    "# with open('Data\\daily_sales - Copy.csv', 'w', newline='') as file:\n",
    "#     file_writer = csv.writer(file)\n",
    "#     file_writer.writerow(['Date', 'Sales', 'Average Discount'])\n",
    "#     for i in range(len(daily_sales)):\n",
    "#         if daily_sales[i][0] == daily_discounts[i][0]:\n",
    "#             file_writer.writerow(daily_sales[i] + [daily_discounts[i][1]])\n",
    "#         else:\n",
    "#             print(daily_sales[i][0])\n",
    "#             print(daily_discounts[i][0])\n",
    "\n",
    "        "
   ]
  },
  {
   "cell_type": "code",
   "execution_count": null,
   "metadata": {},
   "outputs": [],
   "source": []
  }
 ],
 "metadata": {
  "interpreter": {
   "hash": "c569cd2e17f62341e0f08a54f9a867c3c0d3a6f67454072d7de41a8b5dff8343"
  },
  "kernelspec": {
   "display_name": "Python 3.9.1 64-bit",
   "language": "python",
   "name": "python3"
  },
  "language_info": {
   "codemirror_mode": {
    "name": "ipython",
    "version": 3
   },
   "file_extension": ".py",
   "mimetype": "text/x-python",
   "name": "python",
   "nbconvert_exporter": "python",
   "pygments_lexer": "ipython3",
   "version": "3.9.1"
  },
  "orig_nbformat": 4
 },
 "nbformat": 4,
 "nbformat_minor": 2
}
