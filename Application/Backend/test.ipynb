{
 "cells": [
  {
   "cell_type": "code",
   "execution_count": 1,
   "metadata": {},
   "outputs": [],
   "source": [
    "import os"
   ]
  },
  {
   "cell_type": "code",
   "execution_count": 3,
   "metadata": {},
   "outputs": [],
   "source": [
    "directory = '..\\Data\\Monthly_Stocks_Data'\n",
    "files = []\n",
    "for filename in os.listdir(directory):\n",
    "    if 'Main' not in filename:\n",
    "        files.append(filename)"
   ]
  },
  {
   "cell_type": "code",
   "execution_count": 6,
   "metadata": {},
   "outputs": [
    {
     "data": {
      "text/plain": [
       "['category a228a-fix with features.csv',\n",
       " 'category B9q-fix with features.csv',\n",
       " 'category C176l-fix with features.csv',\n",
       " 'category c27J-fix with features.csv',\n",
       " 'category d206l-fix with features.csv',\n",
       " 'category d230v-fix with features.csv',\n",
       " 'category e136a-fix with features.csv',\n",
       " 'category I108K-fix with features.csv',\n",
       " 'category I242N-fix with features.csv',\n",
       " 'category M3Y-fix with features.csv',\n",
       " 'category N189r-fix with features.csv',\n",
       " 'category o52A-fix with features.csv',\n",
       " 'category Q239q-fix with features.csv',\n",
       " 'category r179f-fix with features.csv',\n",
       " 'category R72O-fix with features.csv',\n",
       " 'category u85c-fix with features.csv',\n",
       " 'category v90D-fix with features.csv',\n",
       " 'category X107H-fix with features.csv',\n",
       " 'category Y159X-fix with features.csv',\n",
       " 'category z239x-fix with features.csv']"
      ]
     },
     "execution_count": 6,
     "metadata": {},
     "output_type": "execute_result"
    }
   ],
   "source": [
    "files"
   ]
  },
  {
   "cell_type": "code",
   "execution_count": null,
   "metadata": {},
   "outputs": [],
   "source": []
  }
 ],
 "metadata": {
  "interpreter": {
   "hash": "f6246b25e200e4c5124e3e61789ac81350562f0761bbcf92ad9e48654207659c"
  },
  "kernelspec": {
   "display_name": "Python 3.9.1 64-bit",
   "language": "python",
   "name": "python3"
  },
  "language_info": {
   "codemirror_mode": {
    "name": "ipython",
    "version": 3
   },
   "file_extension": ".py",
   "mimetype": "text/x-python",
   "name": "python",
   "nbconvert_exporter": "python",
   "pygments_lexer": "ipython3",
   "version": "3.9.1"
  },
  "orig_nbformat": 4
 },
 "nbformat": 4,
 "nbformat_minor": 2
}
